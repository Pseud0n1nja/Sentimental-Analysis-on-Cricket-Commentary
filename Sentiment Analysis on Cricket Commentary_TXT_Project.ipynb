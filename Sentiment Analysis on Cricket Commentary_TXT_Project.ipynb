{
 "cells": [
  {
   "cell_type": "markdown",
   "metadata": {
    "ExecuteTime": {
     "end_time": "2020-04-08T13:59:37.268216Z",
     "start_time": "2020-04-08T13:59:36.569596Z"
    }
   },
   "source": [
    "### Authors : Kedarkumar Golla, Krishnan Hariharan"
   ]
  },
  {
   "cell_type": "markdown",
   "metadata": {},
   "source": [
    "# <center>  SENTIMENT ANAYLSIS ON CRICKET COMMENTARY"
   ]
  },
  {
   "cell_type": "markdown",
   "metadata": {},
   "source": [
    "### OBJECTIVE\n",
    "\n",
    "Measuring the performance of a cricket player using only statistical analysis will not completely describe how well or how bad he performed ball-by-ball. The objective of this project is to measure the performance of a player (batsman) using Sentiment Analysis on ball-by-ball cricket commentary\n"
   ]
  },
  {
   "cell_type": "markdown",
   "metadata": {},
   "source": [
    " "
   ]
  },
  {
   "cell_type": "code",
   "execution_count": 1,
   "metadata": {},
   "outputs": [],
   "source": [
    "#Importing required libraries\n",
    "\n",
    "import pandas as pd\n",
    "import numpy as np\n",
    "from sklearn.feature_extraction.text import CountVectorizer\n",
    "from sklearn.feature_extraction.text import TfidfTransformer\n",
    "from sklearn.feature_extraction import text \n",
    "from nltk.corpus import stopwords\n",
    "from sklearn.linear_model import LogisticRegression\n",
    "from sklearn.pipeline import Pipeline \n",
    "import nltk\n",
    "from pandas import DataFrame\n",
    "from sklearn.model_selection import train_test_split\n",
    "from sklearn import metrics\n",
    "from sklearn.metrics import roc_curve\n",
    "from sklearn.metrics import roc_auc_score\n",
    "from matplotlib import pyplot\n",
    "from matplotlib.pyplot import figure"
   ]
  },
  {
   "cell_type": "markdown",
   "metadata": {},
   "source": [
    " "
   ]
  },
  {
   "cell_type": "markdown",
   "metadata": {},
   "source": [
    "### 1. DATA AFTER WEB SCRAPING AND LABELLING"
   ]
  },
  {
   "cell_type": "code",
   "execution_count": 2,
   "metadata": {
    "ExecuteTime": {
     "end_time": "2020-04-08T13:59:38.456548Z",
     "start_time": "2020-04-08T13:59:37.764273Z"
    }
   },
   "outputs": [
    {
     "data": {
      "text/html": [
       "<div>\n",
       "<style scoped>\n",
       "    .dataframe tbody tr th:only-of-type {\n",
       "        vertical-align: middle;\n",
       "    }\n",
       "\n",
       "    .dataframe tbody tr th {\n",
       "        vertical-align: top;\n",
       "    }\n",
       "\n",
       "    .dataframe thead th {\n",
       "        text-align: right;\n",
       "    }\n",
       "</style>\n",
       "<table border=\"1\" class=\"dataframe\">\n",
       "  <thead>\n",
       "    <tr style=\"text-align: right;\">\n",
       "      <th></th>\n",
       "      <th>Commentary</th>\n",
       "      <th>Runs</th>\n",
       "      <th>Sentiment</th>\n",
       "    </tr>\n",
       "  </thead>\n",
       "  <tbody>\n",
       "    <tr>\n",
       "      <th>0</th>\n",
       "      <td>no run knocks it down in front of point</td>\n",
       "      <td>0</td>\n",
       "      <td>positive</td>\n",
       "    </tr>\n",
       "    <tr>\n",
       "      <th>1</th>\n",
       "      <td>no run rehearses a shot trying to clear the leg-side field but was looking to work it around for a single</td>\n",
       "      <td>0</td>\n",
       "      <td>positive</td>\n",
       "    </tr>\n",
       "    <tr>\n",
       "      <th>2</th>\n",
       "      <td>1 run runs that one down towards third man for one more</td>\n",
       "      <td>1</td>\n",
       "      <td>positive</td>\n",
       "    </tr>\n",
       "    <tr>\n",
       "      <th>3</th>\n",
       "      <td>1 run drops it into the leg side for a single</td>\n",
       "      <td>1</td>\n",
       "      <td>positive</td>\n",
       "    </tr>\n",
       "    <tr>\n",
       "      <th>4</th>\n",
       "      <td>1 run pushed in front of mid-on for a quick single</td>\n",
       "      <td>1</td>\n",
       "      <td>positive</td>\n",
       "    </tr>\n",
       "  </tbody>\n",
       "</table>\n",
       "</div>"
      ],
      "text/plain": [
       "                                                                                                  Commentary  \\\n",
       "0  no run knocks it down in front of point                                                                     \n",
       "1  no run rehearses a shot trying to clear the leg-side field but was looking to work it around for a single   \n",
       "2  1 run runs that one down towards third man for one more                                                     \n",
       "3  1 run drops it into the leg side for a single                                                               \n",
       "4  1 run pushed in front of mid-on for a quick single                                                          \n",
       "\n",
       "  Runs Sentiment  \n",
       "0  0    positive  \n",
       "1  0    positive  \n",
       "2  1    positive  \n",
       "3  1    positive  \n",
       "4  1    positive  "
      ]
     },
     "execution_count": 2,
     "metadata": {},
     "output_type": "execute_result"
    }
   ],
   "source": [
    "#Reading the web scraped and labelled data\n",
    "\n",
    "data=pd.read_excel(r\"C:\\Users\\KRISH\\Desktop\\TXT\\All_Matches.xlsx\")\n",
    "pd.set_option('display.max_colwidth', -1)\n",
    "data.head()"
   ]
  },
  {
   "cell_type": "markdown",
   "metadata": {},
   "source": [
    " "
   ]
  },
  {
   "cell_type": "markdown",
   "metadata": {},
   "source": [
    "### 2. PRE-PROCESSING THE DATAFRAME"
   ]
  },
  {
   "cell_type": "code",
   "execution_count": 3,
   "metadata": {
    "ExecuteTime": {
     "end_time": "2020-04-08T13:59:39.026467Z",
     "start_time": "2020-04-08T13:59:38.869509Z"
    }
   },
   "outputs": [
    {
     "data": {
      "text/html": [
       "<div>\n",
       "<style scoped>\n",
       "    .dataframe tbody tr th:only-of-type {\n",
       "        vertical-align: middle;\n",
       "    }\n",
       "\n",
       "    .dataframe tbody tr th {\n",
       "        vertical-align: top;\n",
       "    }\n",
       "\n",
       "    .dataframe thead th {\n",
       "        text-align: right;\n",
       "    }\n",
       "</style>\n",
       "<table border=\"1\" class=\"dataframe\">\n",
       "  <thead>\n",
       "    <tr style=\"text-align: right;\">\n",
       "      <th></th>\n",
       "      <th>Commentary</th>\n",
       "      <th>Runs</th>\n",
       "      <th>Sentiment</th>\n",
       "      <th>Class</th>\n",
       "    </tr>\n",
       "  </thead>\n",
       "  <tbody>\n",
       "    <tr>\n",
       "      <th>0</th>\n",
       "      <td>no run knocks it down in front of point</td>\n",
       "      <td>0</td>\n",
       "      <td>positive</td>\n",
       "      <td>1</td>\n",
       "    </tr>\n",
       "    <tr>\n",
       "      <th>1</th>\n",
       "      <td>no run rehearses a shot trying to clear the leg-side field but was looking to work it around for a single</td>\n",
       "      <td>0</td>\n",
       "      <td>positive</td>\n",
       "      <td>1</td>\n",
       "    </tr>\n",
       "    <tr>\n",
       "      <th>2</th>\n",
       "      <td>1 run runs that one down towards third man for one more</td>\n",
       "      <td>1</td>\n",
       "      <td>positive</td>\n",
       "      <td>1</td>\n",
       "    </tr>\n",
       "    <tr>\n",
       "      <th>3</th>\n",
       "      <td>1 run drops it into the leg side for a single</td>\n",
       "      <td>1</td>\n",
       "      <td>positive</td>\n",
       "      <td>1</td>\n",
       "    </tr>\n",
       "    <tr>\n",
       "      <th>4</th>\n",
       "      <td>1 run pushed in front of mid-on for a quick single</td>\n",
       "      <td>1</td>\n",
       "      <td>positive</td>\n",
       "      <td>1</td>\n",
       "    </tr>\n",
       "  </tbody>\n",
       "</table>\n",
       "</div>"
      ],
      "text/plain": [
       "                                                                                                  Commentary  \\\n",
       "0  no run knocks it down in front of point                                                                     \n",
       "1  no run rehearses a shot trying to clear the leg-side field but was looking to work it around for a single   \n",
       "2  1 run runs that one down towards third man for one more                                                     \n",
       "3  1 run drops it into the leg side for a single                                                               \n",
       "4  1 run pushed in front of mid-on for a quick single                                                          \n",
       "\n",
       "  Runs Sentiment  Class  \n",
       "0  0    positive  1      \n",
       "1  0    positive  1      \n",
       "2  1    positive  1      \n",
       "3  1    positive  1      \n",
       "4  1    positive  1      "
      ]
     },
     "execution_count": 3,
     "metadata": {},
     "output_type": "execute_result"
    }
   ],
   "source": [
    "#Creating Class based on the sentiment\n",
    "\n",
    "data.loc[data[\"Sentiment\"]==\"negative\",\"Class\"]=0\n",
    "data.loc[data[\"Sentiment\"]==\"positive\",\"Class\"]=1\n",
    "data[\"Class\"]=data[\"Class\"].astype(\"int\")\n",
    "data.head()"
   ]
  },
  {
   "cell_type": "code",
   "execution_count": 4,
   "metadata": {
    "ExecuteTime": {
     "end_time": "2020-04-08T13:59:43.671078Z",
     "start_time": "2020-04-08T13:59:43.664082Z"
    }
   },
   "outputs": [],
   "source": [
    "data.loc[data[\"Runs\"]==\"W\",\"Runs\"]=9\n",
    "\n",
    "def stringToNumbers(Runs):\n",
    "    if str(Runs).isdigit():\n",
    "        return Runs\n",
    "    else:\n",
    "        for i in Runs:\n",
    "            if i.isdigit():\n",
    "                return int(i)\n",
    "\n",
    "data[\"Runs\"]=data[\"Runs\"].apply(lambda x:stringToNumbers(x))\n",
    "data.loc[data[\"Runs\"]==9,\"Runs\"]=-18"
   ]
  },
  {
   "cell_type": "code",
   "execution_count": 5,
   "metadata": {
    "ExecuteTime": {
     "end_time": "2020-04-08T13:59:46.092884Z",
     "start_time": "2020-04-08T13:59:46.085887Z"
    }
   },
   "outputs": [],
   "source": [
    "data.to_excel(\"Full_data_Preprocessed_pandas.xlsx\")"
   ]
  },
  {
   "cell_type": "code",
   "execution_count": 6,
   "metadata": {
    "ExecuteTime": {
     "end_time": "2020-04-08T13:59:46.694471Z",
     "start_time": "2020-04-08T13:59:46.685496Z"
    }
   },
   "outputs": [
    {
     "data": {
      "text/plain": [
       "<matplotlib.axes._subplots.AxesSubplot at 0x174240476a0>"
      ]
     },
     "execution_count": 6,
     "metadata": {},
     "output_type": "execute_result"
    },
    {
     "data": {
      "image/png": "[encoded data removed]",
      "text/plain": [
       "<Figure size 432x288 with 1 Axes>"
      ]
     },
     "metadata": {
      "needs_background": "light"
     },
     "output_type": "display_data"
    }
   ],
   "source": [
    "data[\"Class\"].value_counts().plot(kind=\"bar\")"
   ]
  },
  {
   "cell_type": "code",
   "execution_count": 7,
   "metadata": {
    "ExecuteTime": {
     "end_time": "2020-04-08T14:00:12.109637Z",
     "start_time": "2020-04-08T14:00:12.096644Z"
    }
   },
   "outputs": [
    {
     "data": {
      "text/html": [
       "<div>\n",
       "<style scoped>\n",
       "    .dataframe tbody tr th:only-of-type {\n",
       "        vertical-align: middle;\n",
       "    }\n",
       "\n",
       "    .dataframe tbody tr th {\n",
       "        vertical-align: top;\n",
       "    }\n",
       "\n",
       "    .dataframe thead th {\n",
       "        text-align: right;\n",
       "    }\n",
       "</style>\n",
       "<table border=\"1\" class=\"dataframe\">\n",
       "  <thead>\n",
       "    <tr style=\"text-align: right;\">\n",
       "      <th></th>\n",
       "      <th>Commentary</th>\n",
       "      <th>Runs</th>\n",
       "      <th>Sentiment</th>\n",
       "      <th>Class</th>\n",
       "    </tr>\n",
       "  </thead>\n",
       "  <tbody>\n",
       "    <tr>\n",
       "      <th>0</th>\n",
       "      <td>no run knocks it down in front of point</td>\n",
       "      <td>0</td>\n",
       "      <td>positive</td>\n",
       "      <td>1</td>\n",
       "    </tr>\n",
       "    <tr>\n",
       "      <th>1</th>\n",
       "      <td>no run rehearses a shot trying to clear the leg-side field but was looking to work it around for a single</td>\n",
       "      <td>0</td>\n",
       "      <td>positive</td>\n",
       "      <td>1</td>\n",
       "    </tr>\n",
       "    <tr>\n",
       "      <th>2</th>\n",
       "      <td>1 run runs that one down towards third man for one more</td>\n",
       "      <td>1</td>\n",
       "      <td>positive</td>\n",
       "      <td>1</td>\n",
       "    </tr>\n",
       "    <tr>\n",
       "      <th>3</th>\n",
       "      <td>1 run drops it into the leg side for a single</td>\n",
       "      <td>1</td>\n",
       "      <td>positive</td>\n",
       "      <td>1</td>\n",
       "    </tr>\n",
       "    <tr>\n",
       "      <th>4</th>\n",
       "      <td>1 run pushed in front of mid-on for a quick single</td>\n",
       "      <td>1</td>\n",
       "      <td>positive</td>\n",
       "      <td>1</td>\n",
       "    </tr>\n",
       "  </tbody>\n",
       "</table>\n",
       "</div>"
      ],
      "text/plain": [
       "                                                                                                  Commentary  \\\n",
       "0  no run knocks it down in front of point                                                                     \n",
       "1  no run rehearses a shot trying to clear the leg-side field but was looking to work it around for a single   \n",
       "2  1 run runs that one down towards third man for one more                                                     \n",
       "3  1 run drops it into the leg side for a single                                                               \n",
       "4  1 run pushed in front of mid-on for a quick single                                                          \n",
       "\n",
       "   Runs Sentiment  Class  \n",
       "0  0     positive  1      \n",
       "1  0     positive  1      \n",
       "2  1     positive  1      \n",
       "3  1     positive  1      \n",
       "4  1     positive  1      "
      ]
     },
     "execution_count": 7,
     "metadata": {},
     "output_type": "execute_result"
    }
   ],
   "source": [
    "data.head()"
   ]
  },
  {
   "cell_type": "markdown",
   "metadata": {},
   "source": [
    " "
   ]
  },
  {
   "cell_type": "markdown",
   "metadata": {
    "ExecuteTime": {
     "end_time": "2020-04-08T14:00:14.534251Z",
     "start_time": "2020-04-08T14:00:13.217005Z"
    }
   },
   "source": [
    "### 3. PRE-PROCESSING THE COMMENTARY TEXTS"
   ]
  },
  {
   "cell_type": "markdown",
   "metadata": {},
   "source": [
    "#### a) Removing Names from the commentaries using POS Tagging"
   ]
  },
  {
   "cell_type": "code",
   "execution_count": 8,
   "metadata": {
    "ExecuteTime": {
     "end_time": "2020-04-08T14:00:19.667320Z",
     "start_time": "2020-04-08T14:00:14.660180Z"
    }
   },
   "outputs": [],
   "source": [
    "def removing_names(sentence):\n",
    "    tagged_sentence = nltk.tag.pos_tag(sentence.split())\n",
    "    edited_sentence = [word for word,tag in tagged_sentence if tag != 'NNP' and tag != 'NNPS']\n",
    "    edited_sentence = ' '.join(word for word in edited_sentence)\n",
    "    return edited_sentence\n",
    "\n",
    "data[\"edited_Commentry\"]=data[\"Commentary\"].apply(lambda x:removing_names(x))"
   ]
  },
  {
   "cell_type": "markdown",
   "metadata": {},
   "source": [
    "#### b) Creating problem sepcific Stop-words"
   ]
  },
  {
   "cell_type": "code",
   "execution_count": 9,
   "metadata": {
    "ExecuteTime": {
     "end_time": "2020-04-08T14:00:21.651746Z",
     "start_time": "2020-04-08T14:00:21.366066Z"
    }
   },
   "outputs": [],
   "source": [
    "all_stopwords = stopwords.words('english')\n",
    "\n",
    "important_list=['do', 'does', 'did', 'doing','above', 'below', 'up', 'down', 'in', 'out', 'on', 'off', 'over', 'under', 'again', 'further', 'then','once', 'here', 'there', 'when', 'where', 'why', 'how', 'all', 'any', 'both', 'each', 'few', 'more', 'most', 'other', 'some', 'such', 'no', 'nor', 'not', 'only', 'own', 'same', 'so', 'than', 'too', 'very','can', 'will', 'just', 'don', \"don't\", 'should', \"should've\", 'now', \"aren't\", 'couldn', \"couldn't\", 'didn', \"didn't\", 'doesn', \"doesn't\", 'hadn', \"hadn't\", 'hasn', \"hasn't\", 'haven', \"haven't\", 'isn', \"isn't\", 'ma', 'mightn', \"mightn't\", 'mustn', \"mustn't\", 'needn', \"needn't\", 'shan', \"shan't\", 'shouldn', \"shouldn't\", 'wasn', \"wasn't\", 'weren', \"weren't\", 'won', \"won't\", 'wouldn', \"wouldn't\"]\n",
    "for i in important_list:\n",
    "    all_stopwords.remove(i)\n"
   ]
  },
  {
   "cell_type": "markdown",
   "metadata": {},
   "source": [
    "#### c) Count Vectorizer"
   ]
  },
  {
   "cell_type": "code",
   "execution_count": 12,
   "metadata": {
    "ExecuteTime": {
     "end_time": "2020-04-08T14:00:28.393753Z",
     "start_time": "2020-04-08T14:00:27.994982Z"
    }
   },
   "outputs": [
    {
     "name": "stderr",
     "output_type": "stream",
     "text": [
      "IOPub data rate exceeded.\n",
      "The notebook server will temporarily stop sending output\n",
      "to the client in order to avoid crashing it.\n",
      "To change this limit, set the config variable\n",
      "`--NotebookApp.iopub_data_rate_limit`.\n",
      "\n",
      "Current values:\n",
      "NotebookApp.iopub_data_rate_limit=1000000.0 (bytes/sec)\n",
      "NotebookApp.rate_limit_window=3.0 (secs)\n",
      "\n"
     ]
    }
   ],
   "source": [
    "#Tokenize using Count Vectorizer with both Unigrams (n-gram size = 1)and Bigrams (n-gram size = 2)\n",
    "\n",
    "count_vec_bigram = CountVectorizer(binary=True, stop_words=all_stopwords, ngram_range=(1,2),lowercase=False,min_df=0.01)\n",
    "count_vec_bigram.fit(data.edited_Commentry)\n",
    "small_transformed_new = count_vec_bigram.transform(data.edited_Commentry)\n",
    "print(DataFrame(small_transformed_new.A, columns=count_vec_bigram.get_feature_names()).to_string())"
   ]
  },
  {
   "cell_type": "markdown",
   "metadata": {
    "ExecuteTime": {
     "end_time": "2020-04-08T14:00:31.394062Z",
     "start_time": "2020-04-08T14:00:28.998408Z"
    }
   },
   "source": [
    "#### d) Calculating TF-IDF score"
   ]
  },
  {
   "cell_type": "code",
   "execution_count": 13,
   "metadata": {
    "ExecuteTime": {
     "end_time": "2020-04-08T14:00:31.586239Z",
     "start_time": "2020-04-08T14:00:31.398038Z"
    }
   },
   "outputs": [
    {
     "name": "stderr",
     "output_type": "stream",
     "text": [
      "IOPub data rate exceeded.\n",
      "The notebook server will temporarily stop sending output\n",
      "to the client in order to avoid crashing it.\n",
      "To change this limit, set the config variable\n",
      "`--NotebookApp.iopub_data_rate_limit`.\n",
      "\n",
      "Current values:\n",
      "NotebookApp.iopub_data_rate_limit=1000000.0 (bytes/sec)\n",
      "NotebookApp.rate_limit_window=3.0 (secs)\n",
      "\n"
     ]
    }
   ],
   "source": [
    "tfidf = TfidfTransformer(use_idf=True)\n",
    "tfidf.fit(small_transformed_new)\n",
    "small_tfidfed = tfidf.transform(small_transformed_new)\n",
    "print(DataFrame(small_tfidfed.A, columns=count_vec_bigram.get_feature_names()).to_string())"
   ]
  },
  {
   "cell_type": "markdown",
   "metadata": {},
   "source": [
    " "
   ]
  },
  {
   "cell_type": "markdown",
   "metadata": {},
   "source": [
    "### 4. MODEL BUILDING FOR CLASSIFICATION"
   ]
  },
  {
   "cell_type": "markdown",
   "metadata": {
    "ExecuteTime": {
     "end_time": "2020-04-08T14:00:34.899170Z",
     "start_time": "2020-04-08T14:00:31.588201Z"
    }
   },
   "source": [
    " "
   ]
  },
  {
   "cell_type": "code",
   "execution_count": 14,
   "metadata": {
    "ExecuteTime": {
     "end_time": "2020-04-08T14:00:34.911163Z",
     "start_time": "2020-04-08T14:00:34.905165Z"
    }
   },
   "outputs": [],
   "source": [
    "#Logstic Regression Model\n",
    "\n",
    "lr = LogisticRegression(penalty='l2', C=.8, random_state=21,class_weight='balanced')"
   ]
  },
  {
   "cell_type": "code",
   "execution_count": 15,
   "metadata": {
    "ExecuteTime": {
     "end_time": "2020-04-08T14:00:36.063403Z",
     "start_time": "2020-04-08T14:00:36.059404Z"
    }
   },
   "outputs": [],
   "source": [
    "#Creating the Pipeline\n",
    "\n",
    "text_classifier = Pipeline([\n",
    "    ('vectorizer', CountVectorizer(binary=True, stop_words=all_stopwords, ngram_range=(1,2),lowercase=False,min_df=0.01)),\n",
    "    ('tfidf', TfidfTransformer(use_idf=True)),\n",
    "    ('clf', lr),\n",
    "#     ('clf', SGDClassifier()), #by default, this is SVM\n",
    "])"
   ]
  },
  {
   "cell_type": "code",
   "execution_count": 16,
   "metadata": {
    "ExecuteTime": {
     "end_time": "2020-04-08T14:00:37.485589Z",
     "start_time": "2020-04-08T14:00:37.464602Z"
    }
   },
   "outputs": [
    {
     "data": {
      "text/html": [
       "<div>\n",
       "<style scoped>\n",
       "    .dataframe tbody tr th:only-of-type {\n",
       "        vertical-align: middle;\n",
       "    }\n",
       "\n",
       "    .dataframe tbody tr th {\n",
       "        vertical-align: top;\n",
       "    }\n",
       "\n",
       "    .dataframe thead th {\n",
       "        text-align: right;\n",
       "    }\n",
       "</style>\n",
       "<table border=\"1\" class=\"dataframe\">\n",
       "  <thead>\n",
       "    <tr style=\"text-align: right;\">\n",
       "      <th></th>\n",
       "      <th>Commentary</th>\n",
       "      <th>Runs</th>\n",
       "      <th>Sentiment</th>\n",
       "      <th>Class</th>\n",
       "      <th>edited_Commentry</th>\n",
       "    </tr>\n",
       "  </thead>\n",
       "  <tbody>\n",
       "    <tr>\n",
       "      <th>0</th>\n",
       "      <td>no run knocks it down in front of point</td>\n",
       "      <td>0</td>\n",
       "      <td>positive</td>\n",
       "      <td>1</td>\n",
       "      <td>no run knocks it down in front of point</td>\n",
       "    </tr>\n",
       "    <tr>\n",
       "      <th>1</th>\n",
       "      <td>no run rehearses a shot trying to clear the leg-side field but was looking to work it around for a single</td>\n",
       "      <td>0</td>\n",
       "      <td>positive</td>\n",
       "      <td>1</td>\n",
       "      <td>no run rehearses a shot trying to clear the leg-side field but was looking to work it around for a single</td>\n",
       "    </tr>\n",
       "    <tr>\n",
       "      <th>2</th>\n",
       "      <td>1 run runs that one down towards third man for one more</td>\n",
       "      <td>1</td>\n",
       "      <td>positive</td>\n",
       "      <td>1</td>\n",
       "      <td>1 run runs that one down towards third man for one more</td>\n",
       "    </tr>\n",
       "    <tr>\n",
       "      <th>3</th>\n",
       "      <td>1 run drops it into the leg side for a single</td>\n",
       "      <td>1</td>\n",
       "      <td>positive</td>\n",
       "      <td>1</td>\n",
       "      <td>1 run drops it into the leg side for a single</td>\n",
       "    </tr>\n",
       "    <tr>\n",
       "      <th>4</th>\n",
       "      <td>1 run pushed in front of mid-on for a quick single</td>\n",
       "      <td>1</td>\n",
       "      <td>positive</td>\n",
       "      <td>1</td>\n",
       "      <td>1 run pushed in front of mid-on for a quick single</td>\n",
       "    </tr>\n",
       "  </tbody>\n",
       "</table>\n",
       "</div>"
      ],
      "text/plain": [
       "                                                                                                  Commentary  \\\n",
       "0  no run knocks it down in front of point                                                                     \n",
       "1  no run rehearses a shot trying to clear the leg-side field but was looking to work it around for a single   \n",
       "2  1 run runs that one down towards third man for one more                                                     \n",
       "3  1 run drops it into the leg side for a single                                                               \n",
       "4  1 run pushed in front of mid-on for a quick single                                                          \n",
       "\n",
       "   Runs Sentiment  Class  \\\n",
       "0  0     positive  1       \n",
       "1  0     positive  1       \n",
       "2  1     positive  1       \n",
       "3  1     positive  1       \n",
       "4  1     positive  1       \n",
       "\n",
       "                                                                                            edited_Commentry  \n",
       "0  no run knocks it down in front of point                                                                    \n",
       "1  no run rehearses a shot trying to clear the leg-side field but was looking to work it around for a single  \n",
       "2  1 run runs that one down towards third man for one more                                                    \n",
       "3  1 run drops it into the leg side for a single                                                              \n",
       "4  1 run pushed in front of mid-on for a quick single                                                         "
      ]
     },
     "execution_count": 16,
     "metadata": {},
     "output_type": "execute_result"
    }
   ],
   "source": [
    "data.head()"
   ]
  },
  {
   "cell_type": "code",
   "execution_count": 17,
   "metadata": {
    "ExecuteTime": {
     "end_time": "2020-04-08T14:00:38.558977Z",
     "start_time": "2020-04-08T14:00:38.547982Z"
    }
   },
   "outputs": [],
   "source": [
    "#Train-Test-Split\n",
    "\n",
    "X_train, X_test, y_train, y_test = train_test_split(\n",
    "     data.edited_Commentry, data.Class, test_size=0.35, random_state=4)"
   ]
  },
  {
   "cell_type": "code",
   "execution_count": 18,
   "metadata": {
    "ExecuteTime": {
     "end_time": "2020-04-08T14:00:41.220186Z",
     "start_time": "2020-04-08T14:00:40.793426Z"
    }
   },
   "outputs": [
    {
     "name": "stderr",
     "output_type": "stream",
     "text": [
      "C:\\Users\\KRISH\\Anaconda3\\lib\\site-packages\\sklearn\\linear_model\\logistic.py:433: FutureWarning: Default solver will be changed to 'lbfgs' in 0.22. Specify a solver to silence this warning.\n",
      "  FutureWarning)\n"
     ]
    },
    {
     "data": {
      "text/plain": [
       "Pipeline(memory=None,\n",
       "     steps=[('vectorizer', CountVectorizer(analyzer='word', binary=True, decode_error='strict',\n",
       "        dtype=<class 'numpy.int64'>, encoding='utf-8', input='content',\n",
       "        lowercase=False, max_df=1.0, max_features=None, min_df=0.01,\n",
       "        ngram_range=(1, 2), preprocessor=None,\n",
       "        stop_words=['..., penalty='l2', random_state=21,\n",
       "          solver='warn', tol=0.0001, verbose=0, warm_start=False))])"
      ]
     },
     "execution_count": 18,
     "metadata": {},
     "output_type": "execute_result"
    }
   ],
   "source": [
    "text_classifier.fit(X_train, y_train)"
   ]
  },
  {
   "cell_type": "code",
   "execution_count": 19,
   "metadata": {
    "ExecuteTime": {
     "end_time": "2020-04-08T14:00:42.399510Z",
     "start_time": "2020-04-08T14:00:42.389516Z"
    }
   },
   "outputs": [
    {
     "name": "stdout",
     "output_type": "stream",
     "text": [
      "830     no run blocks this one towards point to end the over                         \n",
      "1378    no run he stands on his toes and tucks this angled delivery towards midwicket\n",
      "283     1 run run away between point and cover with an open face                     \n",
      "570     1 run but sends it racing to third man with a steer                          \n",
      "Name: edited_Commentry, dtype: object\n",
      "830     1\n",
      "1378    1\n",
      "283     1\n",
      "570     1\n",
      "Name: Class, dtype: int32\n"
     ]
    }
   ],
   "source": [
    "print(X_test[0:4])\n",
    "print(y_test[0:4])"
   ]
  },
  {
   "cell_type": "code",
   "execution_count": 20,
   "metadata": {
    "ExecuteTime": {
     "end_time": "2020-04-08T14:00:44.352761Z",
     "start_time": "2020-04-08T14:00:44.341768Z"
    }
   },
   "outputs": [
    {
     "data": {
      "text/plain": [
       "0    1\n",
       "1    1\n",
       "2    1\n",
       "3    1\n",
       "Name: Class, dtype: int32"
      ]
     },
     "execution_count": 20,
     "metadata": {},
     "output_type": "execute_result"
    }
   ],
   "source": [
    "X_test = X_test.reset_index(drop = True) # drop=True discards the old index\n",
    "X_test[0:4]\n",
    "\n",
    "y_test = y_test.reset_index(drop = True)\n",
    "y_test[0:4]"
   ]
  },
  {
   "cell_type": "code",
   "execution_count": 21,
   "metadata": {
    "ExecuteTime": {
     "end_time": "2020-04-08T14:00:48.339048Z",
     "start_time": "2020-04-08T14:00:48.106867Z"
    }
   },
   "outputs": [
    {
     "name": "stdout",
     "output_type": "stream",
     "text": [
      "no run blocks this one towards point to end the over, 1, [0.49748005 0.50251995], 1\n",
      "[0.49748005 0.50251995]\n",
      "no run he stands on his toes and tucks this angled delivery towards midwicket, 1, [0.2072026 0.7927974], 1\n",
      "[0.2072026 0.7927974]\n",
      "1 run run away between point and cover with an open face, 1, [0.22275651 0.77724349], 1\n",
      "[0.22275651 0.77724349]\n",
      "1 run but sends it racing to third man with a steer, 1, [0.30621573 0.69378427], 1\n",
      "[0.30621573 0.69378427]\n",
      "no run gets confidently forward to drive to mid-off., 1, [0.44990916 0.55009084], 1\n",
      "[0.44990916 0.55009084]\n",
      "no run the batsman comes forward and drives without much timing straight to cover, 0, [0.50239363 0.49760637], 0\n",
      "[0.50239363 0.49760637]\n",
      "1 run worked behind square leg, 1, [0.09290585 0.90709415], 1\n",
      "[0.09290585 0.90709415]\n",
      "no run takes this back-of-a-length ball from outside off and jabs it to short midwicket, 1, [0.40623383 0.59376617], 1\n",
      "[0.40623383 0.59376617]\n",
      "1 run leg side again with the line and an easy single to square leg, 1, [0.13251754 0.86748246], 1\n",
      "[0.13251754 0.86748246]\n",
      "no run dragged down short and a touch wider but decides not to have a dart, 1, [0.39223326 0.60776674], 0\n",
      "[0.39223326 0.60776674]\n",
      "1 leg bye slower one too on the pads wanted to thrash that to the leg side inside-edged onto the pads, 0, [0.8671041 0.1328959], 0\n",
      "[0.8671041 0.1328959]\n",
      "no run coming into the right-hander from over the wicket gets behind the line and blocks, 0, [0.61270568 0.38729432], 1\n",
      "[0.61270568 0.38729432]\n",
      "1 run but won't mind singles during the fielding restrictions, 1, [0.08119964 0.91880036], 1\n",
      "[0.08119964 0.91880036]\n",
      "1 run opens the face on that one and runs that down towards third man for a single, 1, [0.16319842 0.83680158], 1\n",
      "[0.16319842 0.83680158]\n",
      "no run opens the face and defends to point., 1, [0.18557849 0.81442151], 1\n",
      "[0.18557849 0.81442151]\n",
      "FOUR runs not a power-hit just chipped over the bowler's head no footwork from him swings the bat and gets a boundary, 1, [0.44746831 0.55253169], 1\n",
      "[0.44746831 0.55253169]\n",
      "no run driven well but straight to mid-off, 1, [0.18985297 0.81014703], 1\n",
      "[0.18985297 0.81014703]\n",
      "no run takes the bottom hand off the bat as he drives into the covers, 1, [0.44500345 0.55499655], 1\n",
      "[0.44500345 0.55499655]\n",
      "no run, 1, [0.4789754 0.5210246], 1\n",
      "[0.4789754 0.5210246]\n",
      "no run half forward and across now to block a length ball around off, 1, [0.46195048 0.53804952], 1\n",
      "[0.46195048 0.53804952]\n",
      "no run defended towards mid-on off the back foot, 1, [0.06508672 0.93491328], 1\n",
      "[0.06508672 0.93491328]\n",
      "no run left alone as it goes across him some way outside off, 1, [0.38498082 0.61501918], 1\n",
      "[0.38498082 0.61501918]\n",
      "1 run treks down the pitch as shortens his length. Pushed to mid-on for on, 1, [0.16026204 0.83973796], 1\n",
      "[0.16026204 0.83973796]\n",
      "1 run pitched up delivery angling in to the batsman tucked square to leg, 1, [0.32124551 0.67875449], 1\n",
      "[0.32124551 0.67875449]\n",
      "1 run who adjusts and guides through cover for a single., 1, [0.05780934 0.94219066], 1\n",
      "[0.05780934 0.94219066]\n",
      "4 leg byes and it runs away fine into the boundary, 1, [0.30033568 0.69966432], 1\n",
      "[0.30033568 0.69966432]\n",
      "2 runs nudges square for another couple., 1, [0.20963225 0.79036775], 1\n",
      "[0.20963225 0.79036775]\n",
      "no run defended back to the bowler, 1, [0.09457918 0.90542082], 1\n",
      "[0.09457918 0.90542082]\n",
      "1 run pushes it down to long-on, 1, [0.17648992 0.82351008], 1\n",
      "[0.17648992 0.82351008]\n",
      "no run flatter delivery on the off pushed to long-on off the back foot, 1, [0.12209554 0.87790446], 1\n",
      "[0.12209554 0.87790446]\n",
      "1 run pushed with more force to deep square leg only a single this time, 1, [0.05576414 0.94423586], 1\n",
      "[0.05576414 0.94423586]\n",
      "no run feeling a little for the ball as he stretches out to defend to point, 1, [0.39572554 0.60427446], 1\n",
      "[0.39572554 0.60427446]\n",
      "no run doesn't middle it as he sends it towards cover, 0, [0.57342245 0.42657755], 0\n",
      "[0.57342245 0.42657755]\n",
      "no run drops it in front of mid-off, 1, [0.30738228 0.69261772], 1\n",
      "[0.30738228 0.69261772]\n",
      "no run not much carry on this as it's left alone and takes it by his bootlaces, 0, [0.5719389 0.4280611], 1\n",
      "[0.5719389 0.4280611]\n",
      "1 run helped to long-on, 1, [0.21322654 0.78677346], 1\n",
      "[0.21322654 0.78677346]\n",
      "FOUR runs but there's no one at deep backward square leg. Tossed up and spinning down the leg side looks to hoick and manages to find vacant space for the mis-hit., 1, [0.25516257 0.74483743], 1\n",
      "[0.25516257 0.74483743]\n",
      "no run hit on the thigh pad, 0, [0.85188329 0.14811671], 0\n",
      "[0.85188329 0.14811671]\n",
      "no run defended square into the off side, 1, [0.07208845 0.92791155], 1\n",
      "[0.07208845 0.92791155]\n",
      "1 run pushed towards mid-off who is fairly deep, 1, [0.06910926 0.93089074], 1\n",
      "[0.06910926 0.93089074]\n",
      "no run but it is off the seam strength he angles it in draws forward and beats the outside edge as the ball holds its line, 0, [0.89469284 0.10530716], 0\n",
      "[0.89469284 0.10530716]\n",
      "no run who waits for the spin and chops behind square, 1, [0.17010979 0.82989021], 0\n",
      "[0.17010979 0.82989021]\n",
      "1 run stays back and opens the face to guide a ball angling across towards deep point., 1, [0.10638844 0.89361156], 1\n",
      "[0.10638844 0.89361156]\n",
      "1 run opens the face to guide the ball towards third man for a single, 1, [0.2010022 0.7989978], 1\n",
      "[0.2010022 0.7989978]\n",
      "no run the batsman hops and gets behind that one to defend it on the off side, 1, [0.38889899 0.61110101], 1\n",
      "[0.38889899 0.61110101]\n",
      "no run defended back to the bowler, 1, [0.09457918 0.90542082], 1\n",
      "[0.09457918 0.90542082]\n",
      "1 run tucked around the corner for a single, 1, [0.17488086 0.82511914], 1\n",
      "[0.17488086 0.82511914]\n",
      "no run no pace on the ball from, 0, [0.61430846 0.38569154], 1\n",
      "[0.61430846 0.38569154]\n",
      "1 run drives to long-off, 1, [0.13196487 0.86803513], 1\n",
      "[0.13196487 0.86803513]\n",
      "no run not the first time today for He tries to work a ball that is well outside leg through square and it pops up into the covers landing just short of the man charging in., 0, [0.64900113 0.35099887], 1\n",
      "[0.64900113 0.35099887]\n",
      "1 run going inside out while giving himself a bit of room to beat extra cover, 0, [0.57226562 0.42773438], 1\n",
      "[0.57226562 0.42773438]\n",
      "no run leans back and forces it off the back foot to point, 1, [0.18731924 0.81268076], 1\n",
      "[0.18731924 0.81268076]\n",
      "no run even if he has stepped towards leg. the knuckle ball to point, 1, [0.33885784 0.66114216], 1\n",
      "[0.33885784 0.66114216]\n",
      "2 runs threads the covers now. Ominous timing on that marginally on-the-up drive through the covers. hurries back to tag it., 1, [0.3626372 0.6373628], 1\n",
      "[0.3626372 0.6373628]\n",
      "OUT strikes! It was a length delivery outside off to and what does he do? to in an attempt to run it down to third man. The pressure of a maiden and his strike rate might have troubled him, 0, [0.52338476 0.47661524], 0\n",
      "[0.52338476 0.47661524]\n",
      "1 run he flicks firmly wide of midwicket for a single., 1, [0.07808643 0.92191357], 1\n",
      "[0.07808643 0.92191357]\n",
      "no run pushed to midwicket from the crease, 1, [0.08991379 0.91008621], 1\n",
      "[0.08991379 0.91008621]\n",
      "no run but finds square leg this time, 1, [0.2790481 0.7209519], 1\n",
      "[0.2790481 0.7209519]\n",
      "no run nudged to square leg off the pad, 1, [0.44995106 0.55004894], 1\n",
      "[0.44995106 0.55004894]\n",
      "no run it was on the shorter side well outside off leaves it outside off, 1, [0.47163179 0.52836821], 1\n",
      "[0.47163179 0.52836821]\n",
      "1 run overpitched and flicked nicely off his legs to deep midwicket, 1, [0.04375482 0.95624518], 1\n",
      "[0.04375482 0.95624518]\n",
      "no run and he finds backward point with the steer, 1, [0.36722011 0.63277989], 1\n",
      "[0.36722011 0.63277989]\n",
      "no run tucked away off the pads to midwicket, 0, [0.51744068 0.48255932], 1\n",
      "[0.51744068 0.48255932]\n",
      "2 runs paddled down to fine leg for a couple. played. coming off a stint in conditions entirely different in though, 1, [0.14624316 0.85375684], 1\n",
      "[0.14624316 0.85375684]\n",
      "no run tried to flick it square but missed it again struck on the pads stifled appeal but that was going down, 0, [0.66251533 0.33748467], 0\n",
      "[0.66251533 0.33748467]\n",
      "no run not the most assured of strokes a back of length ball outside off Tiwary flirts with it and misses, 0, [0.68874461 0.31125539], 0\n",
      "[0.68874461 0.31125539]\n",
      "runs a golf swing that sails over mid-on and clears the rope only just. though experimented with a fuller length, 1, [0.1744576 0.8255424], 1\n",
      "[0.1744576 0.8255424]\n",
      "no run defends it back to the bowler but takes his bottom hand of the handle as he does that, 1, [0.20494095 0.79505905], 1\n",
      "[0.20494095 0.79505905]\n",
      "no run watches that carefully and lets it go through, 0, [0.52705884 0.47294116], 1\n",
      "[0.52705884 0.47294116]\n",
      "no run tapped to cover, 1, [0.23723586 0.76276414], 1\n",
      "[0.23723586 0.76276414]\n",
      "1 run carrying on from helping it to fine leg, 1, [0.24823189 0.75176811], 1\n",
      "[0.24823189 0.75176811]\n",
      "no run defends on the off side, 1, [0.14946725 0.85053275], 1\n",
      "[0.14946725 0.85053275]\n",
      "1 run gets the meat of the bat this time with a punch into the covers., 0, [0.52281129 0.47718871], 1\n",
      "[0.52281129 0.47718871]\n",
      "no run the batsman pushes it towards mid-off, 1, [0.30038677 0.69961323], 1\n",
      "[0.30038677 0.69961323]\n",
      "no run is forward and mistimes the push to mid-on to end a bustling first over from He was so pacy that we couldn't see the ball. Or something like that., 1, [0.47501676 0.52498324], 0\n",
      "[0.47501676 0.52498324]\n",
      "no run but is happy slogging at a good length ball that might also have kept low. The only saving grace is that the ball is angled across his stumps and so it misses them, 0, [0.69934484 0.30065516], 1\n",
      "[0.69934484 0.30065516]\n",
      "1 run pushed forward and dropped the ball close on the off side for a quick single, 1, [0.11205589 0.88794411], 1\n",
      "[0.11205589 0.88794411]\n",
      "no run but there was some bat too as pushed at it, 0, [0.70896369 0.29103631], 0\n",
      "[0.70896369 0.29103631]\n",
      "no run punched off the back foot this time and midwicket in action again, 1, [0.18586398 0.81413602], 1\n",
      "[0.18586398 0.81413602]\n",
      "FOUR runs the new ball fairly flies off blade as he stays fixed on leg stump and crashes it away with a cut shot. isn't working., 0, [0.53033449 0.46966551], 1\n",
      "[0.53033449 0.46966551]\n",
      "1 run worked away to deep square leg this time for a single, 1, [0.094456 0.905544], 1\n",
      "[0.094456 0.905544]\n",
      "no run bottom edge stays close to who says no for the single, 0, [0.77457205 0.22542795], 0\n",
      "[0.77457205 0.22542795]\n",
      "2 runs cut hard over point but the outfield is slow. gets time to run around from third man and keep the batsmen to two. There was almost a chance of a run out as the batsmen think of a third, 1, [0.40174071 0.59825929], 1\n",
      "[0.40174071 0.59825929]\n",
      "no run hit hard off the back foot towards cover but doesn't find the gap, 1, [0.39088286 0.60911714], 1\n",
      "[0.39088286 0.60911714]\n",
      "no run but is too good. Adjusts by bowling it short and making it rise up to the helmet. deal with those when you're as off balance as was hurrying into his hook shot, 0, [0.60666953 0.39333047], 1\n",
      "[0.60666953 0.39333047]\n",
      "no run drives that inside out towards extra cover, 1, [0.49719011 0.50280989], 1\n",
      "[0.49719011 0.50280989]\n",
      "1 run takes a nice stride to meet the ball and drive it gently through cover, 1, [0.4671105 0.5328895], 1\n",
      "[0.4671105 0.5328895]\n",
      "1 run nudged into the leg side for one, 1, [0.31862643 0.68137357], 1\n",
      "[0.31862643 0.68137357]\n",
      "FOUR runs but keeps straying on the pads of He picks another one up and whips to the right of midwicket for his third four in four balls, 1, [0.48195739 0.51804261], 1\n",
      "[0.48195739 0.51804261]\n",
      "1 run he pushes it towards at mid-on and it's a single there on most days, 1, [0.10834955 0.89165045], 1\n",
      "[0.10834955 0.89165045]\n",
      "no run closes his face early and leading-edges it in front of the bowler, 1, [0.28010257 0.71989743], 0\n",
      "[0.28010257 0.71989743]\n",
      "FOUR runs but a swivelling will get four past square leg for his pull, 1, [0.30521214 0.69478786], 1\n",
      "[0.30521214 0.69478786]\n",
      "no run defended back to the bowler, 1, [0.09457918 0.90542082], 1\n",
      "[0.09457918 0.90542082]\n",
      "FOUR runs fifty for him. played, 1, [0.05942595 0.94057405], 1\n",
      "[0.05942595 0.94057405]\n",
      "FOUR runs back of a length and driven gun-barrel straight down the ground. straight bat and drilled for four, 1, [0.1173335 0.8826665], 1\n",
      "[0.1173335 0.8826665]\n",
      "no run presents the full face again as he steps forward and knocks it down into the off side, 1, [0.22726025 0.77273975], 1\n",
      "[0.22726025 0.77273975]\n",
      "no run goes back and just pulls hit bat out of line at the last moment, 0, [0.53457015 0.46542985], 1\n",
      "[0.53457015 0.46542985]\n",
      "no run leaves, 1, [0.4789754 0.5210246], 1\n",
      "[0.4789754 0.5210246]\n",
      "1 run nudges it to deep fine leg to keep strike, 1, [0.13056121 0.86943879], 1\n",
      "[0.13056121 0.86943879]\n",
      "2 runs driven straight past the bowler, 1, [0.16116721 0.83883279], 1\n",
      "[0.16116721 0.83883279]\n"
     ]
    }
   ],
   "source": [
    "predicted_test = text_classifier.predict(X_test)\n",
    "predicted_proba_test = text_classifier.predict_proba(X_test)\n",
    "\n",
    "for i in range(100):\n",
    "    print(\"{}, {}, {}, {}\".format(X_test[i], predicted_test[i], predicted_proba_test[i], y_test[i]))\n",
    "    print(predicted_proba_test[i])"
   ]
  },
  {
   "cell_type": "markdown",
   "metadata": {},
   "source": [
    " "
   ]
  },
  {
   "cell_type": "markdown",
   "metadata": {},
   "source": [
    "### 5. MODEL EVALUATION"
   ]
  },
  {
   "cell_type": "markdown",
   "metadata": {},
   "source": [
    "#### a) F1 SCORE and CONFUSION MATRIX"
   ]
  },
  {
   "cell_type": "code",
   "execution_count": 22,
   "metadata": {
    "ExecuteTime": {
     "end_time": "2020-04-08T14:00:49.762205Z",
     "start_time": "2020-04-08T14:00:49.575291Z"
    }
   },
   "outputs": [
    {
     "name": "stdout",
     "output_type": "stream",
     "text": [
      "              precision    recall  f1-score   support\n",
      "\n",
      "           0       0.63      0.86      0.73       257\n",
      "           1       0.97      0.88      0.92      1116\n",
      "\n",
      "   micro avg       0.88      0.88      0.88      1373\n",
      "   macro avg       0.80      0.87      0.83      1373\n",
      "weighted avg       0.90      0.88      0.89      1373\n",
      "\n",
      "[[222  35]\n",
      " [130 986]]\n",
      "              precision    recall  f1-score   support\n",
      "\n",
      "           0       0.55      0.80      0.65       137\n",
      "           1       0.95      0.85      0.90       603\n",
      "\n",
      "   micro avg       0.84      0.84      0.84       740\n",
      "   macro avg       0.75      0.82      0.77       740\n",
      "weighted avg       0.87      0.84      0.85       740\n",
      "\n"
     ]
    },
    {
     "data": {
      "text/plain": [
       "array([[109,  28],\n",
       "       [ 89, 514]], dtype=int64)"
      ]
     },
     "execution_count": 22,
     "metadata": {},
     "output_type": "execute_result"
    }
   ],
   "source": [
    "predicted_train = text_classifier.predict(X_train)\n",
    "\n",
    "y_train = y_train.astype('category')\n",
    "print(metrics.classification_report(y_train, predicted_train,\n",
    "    labels=y_train.cat.categories.tolist()))\n",
    "\n",
    "print(metrics.confusion_matrix(y_train, predicted_train))\n",
    "\n",
    "predicted_test = text_classifier.predict(X_test)\n",
    "\n",
    "y_test = y_test.astype('category')\n",
    "print(metrics.classification_report(y_test, predicted_test,\n",
    "    labels=y_test.cat.categories.tolist()))\n",
    "\n",
    "metrics.confusion_matrix(y_test, predicted_test)"
   ]
  },
  {
   "cell_type": "code",
   "execution_count": 23,
   "metadata": {
    "ExecuteTime": {
     "end_time": "2020-04-08T14:00:50.876165Z",
     "start_time": "2020-04-08T14:00:50.853176Z"
    }
   },
   "outputs": [
    {
     "data": {
      "text/plain": [
       "0.8418918918918918"
      ]
     },
     "execution_count": 23,
     "metadata": {},
     "output_type": "execute_result"
    }
   ],
   "source": [
    "metrics.precision_score(y_test, predicted_test, average='macro') \n",
    "metrics.precision_score(y_test, predicted_test, average='micro') \n",
    "metrics.precision_score(y_test, predicted_test, average='weighted') \n",
    "metrics.recall_score(y_test, predicted_test, average='micro')"
   ]
  },
  {
   "cell_type": "markdown",
   "metadata": {},
   "source": [
    "#### b) ROC Curve (No-Skill Prediction Vs Logistic Prediction)"
   ]
  },
  {
   "cell_type": "code",
   "execution_count": 24,
   "metadata": {
    "ExecuteTime": {
     "end_time": "2020-04-08T14:00:54.825165Z",
     "start_time": "2020-04-08T14:00:54.792184Z"
    }
   },
   "outputs": [],
   "source": [
    "# Generate a No skill prediction (majority class)\n",
    "ns_probs = [0 for _ in range(len(y_test))]\n",
    "\n",
    "#Predict probabilities\n",
    "lr_probs = pd.DataFrame(text_classifier.predict_proba(X_test),columns={0,1})"
   ]
  },
  {
   "cell_type": "code",
   "execution_count": 25,
   "metadata": {
    "ExecuteTime": {
     "end_time": "2020-04-08T14:00:56.105312Z",
     "start_time": "2020-04-08T14:00:55.826452Z"
    }
   },
   "outputs": [
    {
     "name": "stdout",
     "output_type": "stream",
     "text": [
      "No Skill: ROC AUC=0.500\n",
      "Logistic: ROC AUC=0.918\n"
     ]
    },
    {
     "data": {
      "image/png": "[encoded data removed]",
      "text/plain": [
       "<Figure size 640x480 with 1 Axes>"
      ]
     },
     "metadata": {},
     "output_type": "display_data"
    }
   ],
   "source": [
    "#Keep probabilities for the positive outcome only\n",
    "lr_probs = lr_probs.iloc[:, 1]\n",
    "\n",
    "#Calculate scores\n",
    "ns_auc = roc_auc_score(y_test, ns_probs)\n",
    "lr_auc = roc_auc_score(y_test, lr_probs)\n",
    "\n",
    "#Summarize scores\n",
    "print('No Skill: ROC AUC=%.3f' % (ns_auc))\n",
    "print('Logistic: ROC AUC=%.3f' % (lr_auc))\n",
    "\n",
    "#Calculate roc curves\n",
    "ns_fpr, ns_tpr, _ = roc_curve(y_test, ns_probs)\n",
    "lr_fpr, lr_tpr, _ = roc_curve(y_test, lr_probs)\n",
    "\n",
    "#Plot the roc curve for the model\n",
    "\n",
    "figure(num=None, figsize=(8, 6), dpi=80, facecolor='w', edgecolor='k')\n",
    "pyplot.plot(ns_fpr, ns_tpr, linestyle='--', label='No Skill')\n",
    "pyplot.plot(lr_fpr, lr_tpr, marker='.', label='Logistic')\n",
    "\n",
    "#Axis labels\n",
    "pyplot.xlabel('False Positive Rate')\n",
    "pyplot.ylabel('True Positive Rate')\n",
    "\n",
    "#Show the legend\n",
    "pyplot.legend()\n",
    "\n",
    "#Show the plot\n",
    "pyplot.show()"
   ]
  },
  {
   "cell_type": "markdown",
   "metadata": {},
   "source": [
    "### 6. PLAYER COMPARISON"
   ]
  },
  {
   "cell_type": "markdown",
   "metadata": {},
   "source": [
    "### Who is the best opener for Indian team for home matches?"
   ]
  },
  {
   "cell_type": "markdown",
   "metadata": {},
   "source": [
    "###  KL RAHUL vs ROHIT SHARMA vs SHIKHAR DHAWAN"
   ]
  },
  {
   "cell_type": "markdown",
   "metadata": {},
   "source": [
    " "
   ]
  },
  {
   "cell_type": "code",
   "execution_count": 26,
   "metadata": {
    "ExecuteTime": {
     "end_time": "2020-04-08T18:03:39.640929Z",
     "start_time": "2020-04-08T18:03:39.621938Z"
    }
   },
   "outputs": [],
   "source": [
    "#Creating the whole pipeline\n",
    "\n",
    "def preprocess(filename,sheetname):\n",
    "    data=pd.read_excel(filename,sheet_name=sheetname)\n",
    "    data[\"edited_Commentry\"]=data[\"Commentary\"].apply(lambda x:removing_names(x))\n",
    "    all_stopwords = stopwords.words('english')\n",
    "\n",
    "    important_list=['do', 'does', 'did', 'doing','above', 'below', 'up', 'down', 'in', 'out', 'on', 'off', 'over', 'under', 'again', 'further', 'then','once', 'here', 'there', 'when', 'where', 'why', 'how', 'all', 'any', 'both', 'each', 'few', 'more', 'most', 'other', 'some', 'such', 'no', 'nor', 'not', 'only', 'own', 'same', 'so', 'than', 'too', 'very','can', 'will', 'just', 'don', \"don't\", 'should', \"should've\", 'now', \"aren't\", 'couldn', \"couldn't\", 'didn', \"didn't\", 'doesn', \"doesn't\", 'hadn', \"hadn't\", 'hasn', \"hasn't\", 'haven', \"haven't\", 'isn', \"isn't\", 'ma', 'mightn', \"mightn't\", 'mustn', \"mustn't\", 'needn', \"needn't\", 'shan', \"shan't\", 'shouldn', \"shouldn't\", 'wasn', \"wasn't\", 'weren', \"weren't\", 'won', \"won't\", 'wouldn', \"wouldn't\"]\n",
    "    for i in important_list:\n",
    "        all_stopwords.remove(i)\n",
    "    predicted_test = text_classifier.predict(data.edited_Commentry)\n",
    "    predicted_proba_test = text_classifier.predict_proba(data.edited_Commentry)\n",
    "    \n",
    "    \n",
    "    input_data={\"edited_Commentry\":data.edited_Commentry,\"predicted_class\":predicted_test}\n",
    "    final_df=pd.DataFrame(input_data)\n",
    "    #return len(data.edited_Commentry),len(predicted_test),len(predicted_proba_test)\n",
    "    counts=final_df[\"predicted_class\"].value_counts()\n",
    "    \n",
    "    \n",
    "    #Create a comparison metric (Sentiment Score) for comparison of both the players\n",
    "    \n",
    "    positive_decisions=counts[1]\n",
    "    negitive_decisions=counts[0]\n",
    "    total_balls=positive_decisions+negitive_decisions\n",
    "    sentiment_score_for_the_match=(positive_decisions/negitive_decisions)*total_balls\n",
    "    return round(sentiment_score_for_the_match,2)"
   ]
  },
  {
   "cell_type": "markdown",
   "metadata": {},
   "source": [
    " "
   ]
  },
  {
   "cell_type": "markdown",
   "metadata": {},
   "source": [
    "## KL RAHUL"
   ]
  },
  {
   "cell_type": "markdown",
   "metadata": {},
   "source": [
    "### ANALYSING PERFORMANCE OF KL RAHUL IN LAST 5 INNINGS IN INDIA AS OPENER"
   ]
  },
  {
   "cell_type": "code",
   "execution_count": 27,
   "metadata": {},
   "outputs": [],
   "source": [
    "Rahul_score_RR1=preprocess(r\"C:\\Users\\KRISH\\Desktop\\TXT\\RR_ALL.xlsx\",\"RR1RA\")\n",
    "Rahul_score_RR2=preprocess(r\"C:\\Users\\KRISH\\Desktop\\TXT\\RR_ALL.xlsx\",\"RR2RA\")\n",
    "Rahul_score_RR3=preprocess(r\"C:\\Users\\KRISH\\Desktop\\TXT\\RR_ALL.xlsx\",\"RR3RA\")\n",
    "Rahul_score_RR4=preprocess(r\"C:\\Users\\KRISH\\Desktop\\TXT\\RR_ALL.xlsx\",\"RR4RA\")\n",
    "Rahul_score_RR5=preprocess(r\"C:\\Users\\KRISH\\Desktop\\TXT\\RR_ALL.xlsx\",\"RR5RA\")"
   ]
  },
  {
   "cell_type": "code",
   "execution_count": 28,
   "metadata": {},
   "outputs": [
    {
     "name": "stdout",
     "output_type": "stream",
     "text": [
      "KL Rahul Scores in the last 5 innings in India  :\n",
      "\n",
      " [84.0, 26.67, 280.32, 533.08, 8.12]\n",
      "\n",
      "Mean :  186.44\n",
      "Median :  84.0\n",
      "Standard Deviation :  198.39\n",
      "Coefficient of Variation :  1.0640956876206822\n"
     ]
    }
   ],
   "source": [
    "# Sentimental Score of KL RAHUL in the last 5 Innings he played in India as Opener\n",
    "\n",
    "Rahul_scores=[Rahul_score_RR1,Rahul_score_RR2,Rahul_score_RR3,Rahul_score_RR4,Rahul_score_RR5]\n",
    "print(\"KL Rahul Scores in the last 5 innings in India  :\\n\\n\",Rahul_scores)\n",
    "Rahul_mean_score=round(np.mean(Rahul_scores),2)\n",
    "print(\"\\nMean : \",Rahul_mean_score)\n",
    "Rahul_median_score=np.median(Rahul_scores)\n",
    "print(\"Median : \",Rahul_median_score)\n",
    "std_Rahul_score=round(np.std(Rahul_scores),2)\n",
    "print(\"Standard Deviation : \",std_Rahul_score)\n",
    "print(\"Coefficient of Variation : \",std_Rahul_score/Rahul_mean_score)"
   ]
  },
  {
   "cell_type": "markdown",
   "metadata": {},
   "source": [
    "## ROHIT SHARMA"
   ]
  },
  {
   "cell_type": "markdown",
   "metadata": {},
   "source": [
    "### ANALYSING PERFORMANCE OF ROHIT SHARMA IN LAST 5 INNINGS IN INDIA AS OPENER"
   ]
  },
  {
   "cell_type": "code",
   "execution_count": 29,
   "metadata": {
    "ExecuteTime": {
     "end_time": "2020-04-08T18:03:41.985738Z",
     "start_time": "2020-04-08T18:03:41.573935Z"
    }
   },
   "outputs": [],
   "source": [
    "rohit_score_RR1=preprocess(r\"C:\\Users\\KRISH\\Desktop\\TXT\\RR_ALL.xlsx\",\"RR1RS\")\n",
    "rohit_score_RS2=preprocess(r\"C:\\Users\\KRISH\\Desktop\\TXT\\RS_ALL.xlsx\",\"RohitRsd2\")\n",
    "rohit_score_RS1=preprocess(r\"C:\\Users\\KRISH\\Desktop\\TXT\\RS_ALL.xlsx\",\"RohitRSD1\")\n",
    "rohit_score_RR4=preprocess(r\"C:\\Users\\KRISH\\Desktop\\TXT\\RR_ALL.xlsx\",\"RR4RS\")\n",
    "rohit_score_RR3=preprocess(r\"C:\\Users\\KRISH\\Desktop\\TXT\\RR_ALL.xlsx\",\"RR3RS\")"
   ]
  },
  {
   "cell_type": "code",
   "execution_count": 30,
   "metadata": {
    "ExecuteTime": {
     "end_time": "2020-04-08T18:38:12.540548Z",
     "start_time": "2020-04-08T18:38:12.530555Z"
    }
   },
   "outputs": [
    {
     "name": "stdout",
     "output_type": "stream",
     "text": [
      "Rohit Sharma Scores in the last 5 innings in India  :\n",
      "\n",
      "  [487.33, 116.77, 26.67, 433.12, 443.74]\n",
      "\n",
      "Mean :  301.53\n",
      "Median :  433.12\n",
      "Standard Deviation :  190.65\n",
      "Coefficient of Variation:  0.63\n"
     ]
    }
   ],
   "source": [
    "# Sentimental Score of ROHIT SHARMA in the last 5 Innings he played in India as Opener\n",
    "\n",
    "Rohit_scores=[rohit_score_RR1,rohit_score_RS2,rohit_score_RS1,rohit_score_RR4,rohit_score_RR3]\n",
    "print(\"Rohit Sharma Scores in the last 5 innings in India  :\\n\\n \",Rohit_scores)\n",
    "Rohit_mean_score=round(np.mean(Rohit_scores),2)\n",
    "print(\"\\nMean : \",Rohit_mean_score)\n",
    "Rohit_median_score=np.median(Rohit_scores)\n",
    "print(\"Median : \",Rohit_median_score)\n",
    "std_Rohit_score=round(np.std(Rohit_scores),2)\n",
    "print(\"Standard Deviation : \",std_Rohit_score)\n",
    "print(\"Coefficient of Variation: \",round((std_Rohit_score/Rohit_mean_score),2))"
   ]
  },
  {
   "cell_type": "markdown",
   "metadata": {},
   "source": [
    " "
   ]
  },
  {
   "cell_type": "markdown",
   "metadata": {},
   "source": [
    "## SHIKHAR DHAWAN"
   ]
  },
  {
   "cell_type": "markdown",
   "metadata": {},
   "source": [
    " ### ANALYSING PERFORMANCE OF SHIKHAR DHWAN IN LAST 5 INNINGS IN INDIA AS OPENER"
   ]
  },
  {
   "cell_type": "code",
   "execution_count": 31,
   "metadata": {},
   "outputs": [],
   "source": [
    "Shikar_score_RS1=preprocess(r\"C:\\Users\\KRISH\\Desktop\\TXT\\RS_ALL.xlsx\",\"ShikarRsd1\")\n",
    "Shikar_score_RS2=preprocess(r\"C:\\Users\\KRISH\\Desktop\\TXT\\RS_ALL.xlsx\",\"ShikarRSD2\")\n",
    "Shikar_score_RS3=preprocess(r\"C:\\Users\\KRISH\\Desktop\\TXT\\RS_ALL.xlsx\",\"SikharRSD3\")\n",
    "Shikar_score_RS4=preprocess(r\"C:\\Users\\KRISH\\Desktop\\TXT\\RS_ALL.xlsx\",\"SIkharRSD4\")\n",
    "Shikar_score_RS5=preprocess(r\"C:\\Users\\KRISH\\Desktop\\TXT\\RS_ALL.xlsx\",\"ShikarRSD5\")"
   ]
  },
  {
   "cell_type": "code",
   "execution_count": 32,
   "metadata": {},
   "outputs": [
    {
     "name": "stdout",
     "output_type": "stream",
     "text": [
      "Shikhar Dhawan Scores in the last 5 innings in India  :\n",
      "\n",
      " [378.22, 396.12, 22.5, 505.23, 40.0]\n",
      "\n",
      "Mean :  268.41\n",
      "Median :  378.22\n",
      "Standard Deviation :  198.54\n",
      "Coefficient of Variation :  0.7396892813233485\n"
     ]
    }
   ],
   "source": [
    "# Sentimental Score of SHIKHAR DHAWAN in the last 5 Innings he played in India as Opener\n",
    "\n",
    "Shikar_scores=[Shikar_score_RS1,Shikar_score_RS2,Shikar_score_RS3,Shikar_score_RS4,Shikar_score_RS5]\n",
    "print(\"Shikhar Dhawan Scores in the last 5 innings in India  :\\n\\n\",Shikar_scores)\n",
    "Shikar_mean_score=round(np.mean(Shikar_scores),2)\n",
    "print(\"\\nMean : \",Shikar_mean_score)\n",
    "Shikar_median_score=np.median(Shikar_scores)\n",
    "print(\"Median : \",Shikar_median_score)\n",
    "std_Shikar_score=round(np.std(Shikar_scores),2)\n",
    "print(\"Standard Deviation : \",std_Shikar_score)\n",
    "print(\"Coefficient of Variation : \",std_Shikar_score/Shikar_mean_score)"
   ]
  },
  {
   "cell_type": "markdown",
   "metadata": {
    "ExecuteTime": {
     "end_time": "2020-04-08T18:03:59.862532Z",
     "start_time": "2020-04-08T18:03:59.499743Z"
    }
   },
   "source": [
    " "
   ]
  },
  {
   "cell_type": "markdown",
   "metadata": {},
   "source": [
    "### 7. INFERENCE"
   ]
  },
  {
   "cell_type": "markdown",
   "metadata": {},
   "source": [
    "### Coefficient of Variation of Sentiment  scores of players :\n",
    " \n",
    "### KL RAHUL\t\t\t \t         : \t\t   1.06\n",
    "### SHIKHAR DHAWAN\t\t    : \t\t  0.74\n",
    "### ROHIT SHARMA\t\t\t   :\t\t  0.63\n",
    "\n",
    "### By comparing the Coefficient of variation of Sentiment  scores of the players, we can infer that ROHIT SHARMA is the best opener among the three and SHIKHAR DHAWAN is a better opener than KL RAHUL for Indian team to play ODI matches in India.\n"
   ]
  }
 ],
 "metadata": {
  "kernelspec": {
   "display_name": "Python 3",
   "language": "python",
   "name": "python3"
  },
  "language_info": {
   "codemirror_mode": {
    "name": "ipython",
    "version": 3
   },
   "file_extension": ".py",
   "mimetype": "text/x-python",
   "name": "python",
   "nbconvert_exporter": "python",
   "pygments_lexer": "ipython3",
   "version": "3.7.3"
  }
 },
 "nbformat": 4,
 "nbformat_minor": 4
}
